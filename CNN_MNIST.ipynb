{
  "nbformat": 4,
  "nbformat_minor": 0,
  "metadata": {
    "kernelspec": {
      "display_name": "Python 3",
      "language": "python",
      "name": "python3"
    },
    "language_info": {
      "codemirror_mode": {
        "name": "ipython",
        "version": 3
      },
      "file_extension": ".py",
      "mimetype": "text/x-python",
      "name": "python",
      "nbconvert_exporter": "python",
      "pygments_lexer": "ipython3",
      "version": "3.6.9"
    },
    "colab": {
      "name": "CNN-MNIST.ipynb",
      "provenance": [],
      "collapsed_sections": []
    },
    "accelerator": "GPU"
  },
  "cells": [
    {
      "cell_type": "markdown",
      "metadata": {
        "id": "AJap03kNgiYA",
        "colab_type": "text"
      },
      "source": [
        "**Digit Recognition using MNIST Dataset on Tensorflow**\n",
        "\n",
        "The following is the code for Digit Recognition using MNIST Dataset. Convolutional Neural Network Model is used for training. The code below consists of three main parts:\n",
        "\n",
        "* Data Loading and Pre-processing\n",
        "* Model Building\n",
        "* Evaluation of Model"
      ]
    },
    {
      "cell_type": "code",
      "metadata": {
        "id": "Y8607M-yaef-",
        "colab_type": "code",
        "colab": {
          "base_uri": "https://localhost:8080/",
          "height": 72
        },
        "outputId": "62436f1e-1a91-4cc5-b85f-1932d119d611"
      },
      "source": [
        "import numpy as np\n",
        "import pandas.util.testing as pd\n",
        "import matplotlib.pyplot as plt\n",
        "import seaborn as sns\n",
        "import math\n",
        "\n",
        "import scipy\n",
        "import tensorflow as tf\n",
        "from tensorflow.python.framework import ops\n",
        "from tensorflow.keras.datasets import mnist"
      ],
      "execution_count": 1,
      "outputs": [
        {
          "output_type": "stream",
          "text": [
            "/usr/local/lib/python3.6/dist-packages/ipykernel_launcher.py:2: FutureWarning: pandas.util.testing is deprecated. Use the functions in the public API at pandas.testing instead.\n",
            "  \n"
          ],
          "name": "stderr"
        }
      ]
    },
    {
      "cell_type": "markdown",
      "metadata": {
        "id": "vlUGfwfojV3T",
        "colab_type": "text"
      },
      "source": [
        "**Data Loading**\n",
        "\n",
        "Tensorflow Datasets provides a collection of ready-to-use dataset and MNIST is one of them. This dataset consists of train set and test set. The train set consists of 60,000 images of 28x28 pixels size and test set consists of 10,000 images."
      ]
    },
    {
      "cell_type": "code",
      "metadata": {
        "id": "urIamvqYaegk",
        "colab_type": "code",
        "colab": {}
      },
      "source": [
        "#Load training and testing datasets\n",
        "(X_train_orig, Y_train_orig), (X_test_orig, Y_test_orig) = mnist.load_data()"
      ],
      "execution_count": 2,
      "outputs": []
    },
    {
      "cell_type": "code",
      "metadata": {
        "id": "LtrSIHKCaegy",
        "colab_type": "code",
        "colab": {
          "base_uri": "https://localhost:8080/",
          "height": 104
        },
        "outputId": "e9a0a6bb-99d7-49ec-e75e-f4c9ef0cc49c"
      },
      "source": [
        "#Print the shapes of training and testing datasets\n",
        "print('MNIST Dataset Shape: ')\n",
        "print('X_train: ',str(X_train_orig.shape))\n",
        "print('Y_train: ',str(Y_train_orig.shape))\n",
        "print('X_test: ',str(X_test_orig.shape))\n",
        "print('Y_test: ',str(Y_test_orig.shape))"
      ],
      "execution_count": 3,
      "outputs": [
        {
          "output_type": "stream",
          "text": [
            "MNIST Dataset Shape: \n",
            "X_train:  (60000, 28, 28)\n",
            "Y_train:  (60000,)\n",
            "X_test:  (10000, 28, 28)\n",
            "Y_test:  (10000,)\n"
          ],
          "name": "stdout"
        }
      ]
    },
    {
      "cell_type": "markdown",
      "metadata": {
        "id": "0auO6ve3lSRx",
        "colab_type": "text"
      },
      "source": [
        "**Data pre-processing**\n",
        "\n"
      ]
    },
    {
      "cell_type": "code",
      "metadata": {
        "id": "QhoC8LVolejS",
        "colab_type": "code",
        "colab": {
          "base_uri": "https://localhost:8080/",
          "height": 34
        },
        "outputId": "342f1c9d-9d30-44b8-93ea-53554afb5b6b"
      },
      "source": [
        "# check data types\n",
        "X_train_orig.dtype, Y_train_orig.dtype, X_test_orig.dtype, Y_test_orig.dtype"
      ],
      "execution_count": 4,
      "outputs": [
        {
          "output_type": "execute_result",
          "data": {
            "text/plain": [
              "(dtype('uint8'), dtype('uint8'), dtype('uint8'), dtype('uint8'))"
            ]
          },
          "metadata": {
            "tags": []
          },
          "execution_count": 4
        }
      ]
    },
    {
      "cell_type": "code",
      "metadata": {
        "id": "Ck088r4Fm9fR",
        "colab_type": "code",
        "colab": {
          "base_uri": "https://localhost:8080/",
          "height": 34
        },
        "outputId": "45ff20e0-05dc-42c2-e06a-b826bc27b803"
      },
      "source": [
        "Y_train_orig = Y_train_orig.astype('int')\n",
        "Y_test_orig = Y_test_orig.astype('int')\n",
        "Y_train_orig.dtype,  Y_test_orig.dtype"
      ],
      "execution_count": 5,
      "outputs": [
        {
          "output_type": "execute_result",
          "data": {
            "text/plain": [
              "(dtype('int64'), dtype('int64'))"
            ]
          },
          "metadata": {
            "tags": []
          },
          "execution_count": 5
        }
      ]
    },
    {
      "cell_type": "code",
      "metadata": {
        "id": "DQZn9uIZmKor",
        "colab_type": "code",
        "colab": {
          "base_uri": "https://localhost:8080/",
          "height": 512
        },
        "outputId": "2ff62df6-b305-48cf-9752-dc528c99aa72"
      },
      "source": [
        "# mean and standard deviation of Classes\n",
        "sns.set(style='white', context='notebook', palette='deep')\n",
        "\n",
        "# plot how many images there are in each class\n",
        "sns.countplot(Y_train_orig)\n",
        "\n",
        "print(Y_train_orig.shape)\n",
        "print(type(Y_train_orig))\n",
        "\n",
        "# array with each class and its number of images\n",
        "unique , counts = np.unique(Y_train_orig, return_counts=True)\n",
        "print(np.asarray((unique, counts)).T)\n",
        "\n",
        "# mean and std\n",
        "cls_mean = np.mean(counts)\n",
        "cls_std = np.std(counts,ddof=1)\n",
        "\n",
        "print(\"The mean amount of elements per class is\", cls_mean)\n",
        "print(\"The standard deviation in the element per class distribution is\", cls_std)\n",
        "\n",
        "\n",
        "if cls_std > cls_mean * (0.6827 / 2):\n",
        "    print(\"The standard deviation is high\")"
      ],
      "execution_count": 6,
      "outputs": [
        {
          "output_type": "stream",
          "text": [
            "(60000,)\n",
            "<class 'numpy.ndarray'>\n",
            "[[   0 5923]\n",
            " [   1 6742]\n",
            " [   2 5958]\n",
            " [   3 6131]\n",
            " [   4 5842]\n",
            " [   5 5421]\n",
            " [   6 5918]\n",
            " [   7 6265]\n",
            " [   8 5851]\n",
            " [   9 5949]]\n",
            "The mean amount of elements per class is 6000.0\n",
            "The standard deviation in the element per class distribution is 339.5051955092555\n"
          ],
          "name": "stdout"
        },
        {
          "output_type": "display_data",
          "data": {
            "image/png": "[encoded data removed]",
            "text/plain": [
              "<Figure size 432x288 with 1 Axes>"
            ]
          },
          "metadata": {
            "tags": []
          }
        }
      ]
    },
    {
      "cell_type": "code",
      "metadata": {
        "id": "xL3zL9nQonOq",
        "colab_type": "code",
        "colab": {
          "base_uri": "https://localhost:8080/",
          "height": 86
        },
        "outputId": "15ab32b7-a140-4385-8cda-1897a4dabc8f"
      },
      "source": [
        "# Check nulls and missing values\n",
        "\n",
        "print(np.sum(np.isnan(X_train_orig)))\n",
        "print(np.sum(np.isnan(X_test_orig)))\n",
        "print(np.sum(np.isnan(Y_train_orig)))\n",
        "print(np.sum(np.isnan(Y_test_orig)))"
      ],
      "execution_count": 7,
      "outputs": [
        {
          "output_type": "stream",
          "text": [
            "0\n",
            "0\n",
            "0\n",
            "0\n"
          ],
          "name": "stdout"
        }
      ]
    },
    {
      "cell_type": "code",
      "metadata": {
        "id": "p3Al98tlaeg_",
        "colab_type": "code",
        "colab": {
          "base_uri": "https://localhost:8080/",
          "height": 284
        },
        "outputId": "99c390a8-0675-4789-f3db-fa7d976ebd25"
      },
      "source": [
        "# Visualising the dataset\n",
        "\n",
        "for index in range(0,9):\n",
        "  plt.subplot(330+(index+1))\n",
        "  plt.imshow(X_train_orig[index], cmap = 'gray')\n",
        "  plt.title(str(Y_train_orig[index]))"
      ],
      "execution_count": 8,
      "outputs": [
        {
          "output_type": "display_data",
          "data": {
            "image/png": "[encoded data removed]",
            "text/plain": [
              "<Figure size 432x288 with 9 Axes>"
            ]
          },
          "metadata": {
            "tags": []
          }
        }
      ]
    },
    {
      "cell_type": "code",
      "metadata": {
        "id": "tJG4Qcw4aehO",
        "colab_type": "code",
        "colab": {
          "base_uri": "https://localhost:8080/",
          "height": 121
        },
        "outputId": "567d6ec8-e59d-4819-f0c3-5e51233e3f9f"
      },
      "source": [
        "# Reshape inputs to give 1 channel\n",
        "X_train_orig = X_train_orig.reshape(X_train_orig.shape[0],28,28,1)\n",
        "X_test_orig = X_test_orig.reshape(X_test_orig.shape[0],28,28,1)\n",
        "\n",
        "# Convert values to float\n",
        "X_train_orig = X_train_orig.astype('float32')\n",
        "X_test_orig = X_test_orig.astype('float32')\n",
        "\n",
        "# Normalize values between 0-1 as CNN converges faster with smaller values\n",
        "X_train = X_train_orig / 255.0\n",
        "X_test = X_test_orig / 255.0\n",
        "\n",
        "# Perform one hot encoding\n",
        "Y_train = np.eye(10)[Y_train_orig.reshape(-1)] \n",
        "Y_test = np.eye(10)[Y_test_orig.reshape(-1)]\n",
        "\n",
        "print('Number of training examples: ',str(X_train.shape[0]))\n",
        "print('Number of testing examples: ',str(X_test.shape[0]))\n",
        "print (\"X_train shape: \" + str(X_train.shape))\n",
        "print (\"Y_train shape: \" + str(Y_train.shape))\n",
        "print (\"X_test shape: \" + str(X_test.shape))\n",
        "print (\"Y_test shape: \" + str(Y_test.shape))"
      ],
      "execution_count": 9,
      "outputs": [
        {
          "output_type": "stream",
          "text": [
            "Number of training examples:  60000\n",
            "Number of testing examples:  10000\n",
            "X_train shape: (60000, 28, 28, 1)\n",
            "Y_train shape: (60000, 10)\n",
            "X_test shape: (10000, 28, 28, 1)\n",
            "Y_test shape: (10000, 10)\n"
          ],
          "name": "stdout"
        }
      ]
    },
    {
      "cell_type": "markdown",
      "metadata": {
        "id": "l7HY8-KmXT3u",
        "colab_type": "text"
      },
      "source": [
        "**Building CNN Model in Tensorflow** \n",
        "\n",
        "**1) Creating Placeholders**\n",
        "\n",
        "In Tensorflow, placeholders should be created for input data that will be fed into the model while running the session."
      ]
    },
    {
      "cell_type": "code",
      "metadata": {
        "id": "vdqX5mwIaehY",
        "colab_type": "code",
        "colab": {}
      },
      "source": [
        "# Create a Placeholder for input data that will be fed into model while running the session\n",
        "def placeholders(n_h0, n_w0, n_c0, n_y):\n",
        "    \"\"\"\n",
        "    Creating placeholders for tensorflow session\n",
        "    \"\"\"\n",
        "    X = tf.compat.v1.placeholder(tf.float32, shape = [None,n_h0,n_w0,n_c0])\n",
        "    Y = tf.compat.v1.placeholder(tf.float32, shape = [None,n_y])\n",
        "    return X, Y"
      ],
      "execution_count": 10,
      "outputs": []
    },
    {
      "cell_type": "code",
      "metadata": {
        "id": "PSZFoBZYaehh",
        "colab_type": "code",
        "colab": {
          "base_uri": "https://localhost:8080/",
          "height": 52
        },
        "outputId": "fe14a6d1-7516-4394-a949-544dd91bce14"
      },
      "source": [
        "# Test placeholder function\n",
        "tf.compat.v1.disable_eager_execution()\n",
        "X, Y = placeholders(128,128,32,10)\n",
        "print (\"X = \" + str(X))\n",
        "print (\"Y = \" + str(Y))"
      ],
      "execution_count": 11,
      "outputs": [
        {
          "output_type": "stream",
          "text": [
            "X = Tensor(\"Placeholder:0\", shape=(None, 128, 128, 32), dtype=float32)\n",
            "Y = Tensor(\"Placeholder_1:0\", shape=(None, 10), dtype=float32)\n"
          ],
          "name": "stdout"
        }
      ]
    },
    {
      "cell_type": "markdown",
      "metadata": {
        "id": "zngddCpTZGA_",
        "colab_type": "text"
      },
      "source": [
        "**2) Initializing Parameters**\n",
        "\n",
        "We initialize the weight/filters W1 and W2 using tf.keras.initializers.GlorotNormal() . The bias avriables need not be initialised as they are taken care off in tensorflow. Also, filter initialization needs to be done only for Conv2D functions as tensorflow initializes the layers for fully connected part automatically. The filter shape is represented as [n$_{fh}$, n$_{fw}$, n$_{fc}$, n$_f$].\n",
        "Where,\n",
        "\n",
        "n$_{fh}$ - filter height\n",
        "\n",
        "n$_{fw}$ - filter width\n",
        "\n",
        "n$_{fc}$ - filter channels\n",
        "\n",
        "n$_f$ - total number of filters"
      ]
    },
    {
      "cell_type": "code",
      "metadata": {
        "id": "N3qP09A7aehs",
        "colab_type": "code",
        "colab": {}
      },
      "source": [
        "# Initialize parameters\n",
        "# It is a two layer model.\n",
        "def param_initialize(filter1, filter2):\n",
        "    #tf.set_random_seed(1)\n",
        "    W1 = tf.compat.v1.get_variable(\"W1\",filter1, initializer = tf.keras.initializers.GlorotNormal())\n",
        "    W2 = tf.compat.v1.get_variable(\"W2\",filter2, initializer = tf.keras.initializers.GlorotNormal())\n",
        "    parameters = {\"W1\": W1, \"W2\": W2}\n",
        "    return parameters"
      ],
      "execution_count": 12,
      "outputs": []
    },
    {
      "cell_type": "code",
      "metadata": {
        "id": "QIXYhF1naeh4",
        "colab_type": "code",
        "colab": {
          "base_uri": "https://localhost:8080/",
          "height": 208
        },
        "outputId": "51d86490-2556-4980-f8c1-2be8773c9b84"
      },
      "source": [
        "# Test Parameter Initialization function\n",
        "tf.compat.v1.reset_default_graph()\n",
        "with tf.compat.v1.Session() as sess_test:\n",
        "    parameters = param_initialize([4,4,3,8],[2,2,8,16])\n",
        "    init = tf.compat.v1.global_variables_initializer()\n",
        "    sess_test.run(init)\n",
        "    print(\"W1[1,1,1] = \\n\" + str(parameters[\"W1\"].eval()[1,1,1]))\n",
        "    print(\"W1.shape: \" + str(parameters[\"W1\"].shape))\n",
        "    print(\"\\n\")\n",
        "    print(\"W2[1,1,1] = \\n\" + str(parameters[\"W2\"].eval()[1,1,1]))\n",
        "    print(\"W2.shape: \" + str(parameters[\"W2\"].shape))"
      ],
      "execution_count": 13,
      "outputs": [
        {
          "output_type": "stream",
          "text": [
            "W1[1,1,1] = \n",
            "[ 0.16509756 -0.0401838   0.19732484 -0.04658141 -0.02660793  0.09318393\n",
            "  0.02731427  0.04729046]\n",
            "W1.shape: (4, 4, 3, 8)\n",
            "\n",
            "\n",
            "W2[1,1,1] = \n",
            "[-0.12830433  0.10876855  0.14363368  0.02441129 -0.18385738 -0.01331089\n",
            " -0.22861822  0.25475466  0.06114589  0.2029646  -0.03001172 -0.12799622\n",
            "  0.28219405  0.12934925  0.27037993  0.11447636]\n",
            "W2.shape: (2, 2, 8, 16)\n"
          ],
          "name": "stdout"
        }
      ]
    },
    {
      "cell_type": "markdown",
      "metadata": {
        "id": "LYLLfHkcZvCE",
        "colab_type": "text"
      },
      "source": [
        "**3) Forward Propagation**\n",
        "\n",
        "In Tensorflow, there are built-in functions to implement Convolution Steps:\n",
        "\n",
        "\n",
        "*   **tf.nn.conv2d(X,W,strides = [1,s,s,1], padding = 'SAME')** : This function performs 2D convolution of input X of dimension [batches , n$_{h}$, n$_{w}$, n$_{c}$] (n$_{h}$ and n$_{w}$ are height and width of input and n$_{c}$ are input channels) and of weight/filter of dimension [n$_{fh}$, n$_{fw}$, n$_{fc}$, n$_f$]. The third parameter represents the strides for each dimension of input, hence it is taken as 1 for batches and number of channels.\n",
        "*   **tf.nn.relu(Z)** : This function computers element-wise Relu of Z where Z can be of any shape.\n",
        "*   **tf.nn.max_pool(A, k = [1,f,f,1], strides = [1,s,s,1], padding = 'SAME')** : This function, performs max pooling over each window given an input A, window size (f,f) and stride (s,s). Max pooling is generally operated on a single example and single channel at a time and hence the first value and fourth value in k and strides parameters of this function are 1. \n",
        "*   **tf.keras.layers.Flatten()** : This function flattens the input without affecting the batch size. So, if the input is of shape (m,h,w,c) then the function gives an output of shape (m,k) where k = h * w * c (product of all dimension sizes except first dimension). \n",
        "*   **tf.keras.layers.Dense()** : Dense implements the operation: output = activation(dot(input, kernel) + bias) where activation is the element-wise activation function passed as the activation argument, kernel is a weights matrix created by the layer, and bias is a bias vector created by the layer (only applicable if use_bias is True).\n",
        "\n",
        "Thus, the CNN Model architecture for Training is given as:\n",
        "CONV2D -> RELU -> MAXPOOL -> CONV2D -> RELU -> MAXPOOL -> FLATTEN -> DENSE -> OUTPUT\n",
        "\n"
      ]
    },
    {
      "cell_type": "code",
      "metadata": {
        "id": "iy1CGspFaeiE",
        "colab_type": "code",
        "colab": {}
      },
      "source": [
        "# Forward Propogation \n",
        "def forward_propogation(X, parameters):\n",
        "    \"\"\"\n",
        "    Implements forward propogation for the model\n",
        "    CONV2D -> RELU -> MAXPOOL -> CONV2D -> RELU -> MAXPOOL -> FLATTEN -> FULLYCONNECTED\n",
        "    \"\"\"\n",
        "    # Retrive weight parameters from the dictionary\n",
        "    W1 = parameters['W1']\n",
        "    W2 = parameters['W2']\n",
        "    \n",
        "    # CONV2D: filer W1, stride = 1, padding = SAME\n",
        "    Z1 = tf.nn.conv2d(X,W1, strides = [1,1,1,1], padding = 'SAME')\n",
        "    # RELU\n",
        "    A1 = tf.nn.relu(Z1)\n",
        "    # MAXPOOL: window = 4x4 , stride = 2, padding = SAME\n",
        "    P1 = tf.nn.max_pool(A1, ksize = [1,2,2,1], strides = [1,2,2,1], padding = 'SAME')\n",
        "    # CONV2D: filter W2, stride = 1, padding = SAME\n",
        "    Z2 = tf.nn.conv2d(P1,W2, strides = [1,1,1,1], padding = 'SAME')\n",
        "    # RELU\n",
        "    A2 = tf.nn.relu(Z2)\n",
        "    # MAXPOOL: window = 2x2, stride = 2, padding = SAME\n",
        "    P2 = tf.nn.max_pool(A2, ksize = [1,2,2,1], strides = [1,2,2,1], padding = 'SAME')\n",
        "    # FLATTEN\n",
        "    # = tf.contrib.layers.flatten(P2)\n",
        "    F = tf.keras.layers.Flatten()(P2)\n",
        "    # FULLY-CONNECTED without non-linear activation function (not not call softmax).\n",
        "    # 10 neurons in output layer. Hint: one of the arguments should be \"activation_fn=None\" \n",
        "    Z3 = tf.keras.layers.Dense(10)(F)\n",
        "    \n",
        "    return Z3\n",
        "    "
      ],
      "execution_count": 14,
      "outputs": []
    },
    {
      "cell_type": "code",
      "metadata": {
        "id": "6OniXbSIaeiO",
        "colab_type": "code",
        "colab": {
          "base_uri": "https://localhost:8080/",
          "height": 104
        },
        "outputId": "04d0a82a-e4dc-4455-accc-7b32003d90f6"
      },
      "source": [
        "# Testing the Forward Propogation function\n",
        "tf.compat.v1.reset_default_graph()\n",
        "\n",
        "with tf.compat.v1.Session() as sess:\n",
        "    X, Y = placeholders(28, 28, 1, 10)\n",
        "    parameters = param_initialize([4,4,1,8],[2,2,8,16])\n",
        "    Z3 = forward_propogation(X, parameters)\n",
        "    init = tf.compat.v1.global_variables_initializer()\n",
        "    sess.run(init)\n",
        "    a = sess.run(Z3, {X: np.random.randn(2,28,28,1), Y: np.random.randn(2,10)})\n",
        "    print(\"Z3 = \\n\" + str(a))"
      ],
      "execution_count": 15,
      "outputs": [
        {
          "output_type": "stream",
          "text": [
            "Z3 = \n",
            "[[ 0.7254764  -0.74872184  0.2624486   0.30163106  0.9594699   0.45770848\n",
            "  -0.82081985  0.43590882 -0.59378934 -0.12223189]\n",
            " [ 0.50848985 -0.9062246  -0.3395081   0.27760237  1.4682311   0.46184656\n",
            "  -1.6328274   0.71381664 -0.8447888  -0.6744604 ]]\n"
          ],
          "name": "stdout"
        }
      ]
    },
    {
      "cell_type": "markdown",
      "metadata": {
        "id": "4PrxY7dm9TCh",
        "colab_type": "text"
      },
      "source": [
        "**4) Compute Cost**\n",
        "\n",
        "Cost Function helps neural network see see how much the model's predictions differ from the correct labels. By adjusting the weights of the network to reduce the cost, the neural network can improve its predictions. \n",
        "\n",
        "\n",
        "* Softmax is used to format outputs so that they can be used for classification. It assigns a value between 0 and 1 for each category, where the sum of all prediction values (across all possible categories) equals 1.\n",
        "* Cross Entropy is compares the model's predicted classifications with the actual labels and results in a numerical value representing the \"loss\" of the model's predictions.\n",
        "* \"Logits\" are the result of multiplying the weights and adding the biases. Logits are passed through an activation function (such as a relu), and the result is called the \"activation.\"\n",
        "* The function is named softmax_cross_entropy_with_logits takes logits as input (and not activations); then uses the model to predict using softmax, and then compares the predictions with the true labels using cross entropy. These are done with a single function to optimize the calculations.\n"
      ]
    },
    {
      "cell_type": "code",
      "metadata": {
        "id": "KOIqRoxtaeiZ",
        "colab_type": "code",
        "colab": {}
      },
      "source": [
        "# Compute Cost\n",
        "def compute_cost(Z3,Y):\n",
        "    cost = tf.reduce_mean(tf.compat.v1.nn.softmax_cross_entropy_with_logits_v2(logits = Z3, labels = Y))\n",
        "    return cost"
      ],
      "execution_count": 16,
      "outputs": []
    },
    {
      "cell_type": "code",
      "metadata": {
        "id": "MAF_kikOaeii",
        "colab_type": "code",
        "colab": {
          "base_uri": "https://localhost:8080/",
          "height": 34
        },
        "outputId": "cc10f42f-75ea-49db-cf2b-b249c8823b46"
      },
      "source": [
        "#Testing the cost function\n",
        "tf.compat.v1.reset_default_graph()\n",
        "\n",
        "with tf.compat.v1.Session() as sess:\n",
        "    np.random.seed(1)\n",
        "    X, Y = placeholders(28, 28, 1, 10)\n",
        "    parameters = param_initialize([4,4,1,8],[2,2,8,16])\n",
        "    Z3 = forward_propogation(X, parameters)\n",
        "    cost = compute_cost(Z3, Y)\n",
        "    init = tf.compat.v1.global_variables_initializer()\n",
        "    sess.run(init)\n",
        "    a = sess.run(cost, {X: np.random.randn(4,28,28,1), Y: np.random.randn(4,10)})\n",
        "    print(\"cost = \" + str(a))"
      ],
      "execution_count": 17,
      "outputs": [
        {
          "output_type": "stream",
          "text": [
            "cost = 6.3592486\n"
          ],
          "name": "stdout"
        }
      ]
    },
    {
      "cell_type": "code",
      "metadata": {
        "id": "NevM4WkEaeit",
        "colab_type": "code",
        "colab": {}
      },
      "source": [
        "def random_mini_batches(X, Y, mini_batch_size = 32):\n",
        "    \"\"\"Creates a list of random minibatches from (X, Y)\"\"\"\n",
        "    \n",
        "    m = X.shape[0]                  # number of training examples\n",
        "    mini_batches = []\n",
        "    \n",
        "    # Step 1: Shuffle (X, Y)\n",
        "    permutation = list(np.random.permutation(m))\n",
        "    shuffled_X = X[permutation,:,:,:]\n",
        "    shuffled_Y = Y[permutation,:]\n",
        "    \n",
        "\n",
        "    # Step 2: Partition (shuffled_X, shuffled_Y). Minus the end case.\n",
        "    num_complete_minibatches = math.floor(m/mini_batch_size) # number of mini batches of size mini_batch_size in your partitionning\n",
        "    for k in range(0, num_complete_minibatches):\n",
        "        mini_batch_X = shuffled_X[k * mini_batch_size : k * mini_batch_size + mini_batch_size,:,:,:]\n",
        "        mini_batch_Y = shuffled_Y[k * mini_batch_size : k * mini_batch_size + mini_batch_size,:]\n",
        "        mini_batch = (mini_batch_X, mini_batch_Y)\n",
        "        mini_batches.append(mini_batch)\n",
        "    \n",
        "    # Handling the end case (last mini-batch < mini_batch_size)\n",
        "    if m % mini_batch_size != 0:\n",
        "        mini_batch_X = shuffled_X[num_complete_minibatches * mini_batch_size : m,:,:,:]\n",
        "        mini_batch_Y = shuffled_Y[num_complete_minibatches * mini_batch_size : m,:]\n",
        "        mini_batch = (mini_batch_X, mini_batch_Y)\n",
        "        mini_batches.append(mini_batch)\n",
        "    \n",
        "    return mini_batches"
      ],
      "execution_count": 18,
      "outputs": []
    },
    {
      "cell_type": "markdown",
      "metadata": {
        "id": "yZhhyxKeIRb4",
        "colab_type": "text"
      },
      "source": [
        "**5) Model**\n",
        "\n",
        "Finally merge all the functions to build the model that will be trained of MNIST dataset. \n",
        "\n",
        "*   **Optimizer** : Adam optimizer is used to minimize the cost function. Learning rate is set to 0.01 .\n",
        "*   **Minibtaches** : The training data is split into minibatches of size 64 (64 training examples in one minibatch). For implementing gradient descent, whole data needs to be processed first and it can be time consuming. Splitting the training set into minibatches allows gradient descent to make some progress even before we finish processing entire data. And when the training set in huge, minibatch gradient descent is much faster than batch gradient descent. \n",
        "\n"
      ]
    },
    {
      "cell_type": "code",
      "metadata": {
        "id": "XfkG5LaOaei0",
        "colab_type": "code",
        "colab": {}
      },
      "source": [
        "# Building a Model to train MNIST dataset\n",
        "def model(X_train, Y_train, X_test, Y_test, learning_rate = 0.001,\n",
        "          num_epochs = 15, minibatch_size = 32, print_cost = True):\n",
        "    \n",
        "    ops.reset_default_graph()                   # to be able to rerun the model without overwriting tf variables\n",
        "    (m, n_h0, n_w0, n_c0) = X_train.shape             \n",
        "    n_y = Y_train.shape[1]                            \n",
        "    costs = []                                  # To keep track of the cost\n",
        "    \n",
        "    #Create Placeholders of correct shape\n",
        "    X, Y = placeholders(n_h0, n_w0, n_c0, n_y)\n",
        "    #Initialize Parameters\n",
        "    parameters = param_initialize([4,4,1,16],[2,2,16,32])\n",
        "    #Forward Propogation : Build Tensorflow Graph for forward propogation\n",
        "    Z3 = forward_propogation(X,parameters)\n",
        "    #Add Cost Function to Tensorflow graph\n",
        "    cost = compute_cost(Z3,Y)\n",
        "    #Adam Optimizer that minimizes cost for Backpropogation\n",
        "    optimizer = tf.compat.v1.train.AdamOptimizer(learning_rate = learning_rate).minimize(loss = cost)\n",
        "    \n",
        "    #Initialize all variables globally\n",
        "    init = tf.compat.v1.global_variables_initializer()\n",
        "    \n",
        "    #Start a Session\n",
        "    with tf.compat.v1.Session() as sess:\n",
        "        \n",
        "        sess.run(init)\n",
        "        \n",
        "        #Training loop\n",
        "        for epoch in range(num_epochs):\n",
        "            \n",
        "            minibatch_cost = 0.\n",
        "            num_minibatches = int(m / minibatch_size) \n",
        "            # number of minibatches of size minibatch_size in the train set\n",
        "            \n",
        "            minibatches = random_mini_batches(X_train, Y_train, minibatch_size)\n",
        "\n",
        "            for minibatch in minibatches:\n",
        "\n",
        "                # Select a minibatch\n",
        "                (minibatch_X, minibatch_Y) = minibatch\n",
        "                \n",
        "                _ , temp_cost = sess.run(fetches = [optimizer,cost], feed_dict = {X:minibatch_X, Y:minibatch_Y})\n",
        "                \n",
        "                minibatch_cost += temp_cost / num_minibatches\n",
        "                \n",
        "\n",
        "            # Print the cost after every epoch\n",
        "            if print_cost == True and epoch % 1 == 0:\n",
        "                print (\"Cost after epoch %i: %f\" % (epoch, minibatch_cost))\n",
        "            if print_cost == True and epoch % 1 == 0:\n",
        "                costs.append(minibatch_cost)\n",
        "                \n",
        "        \n",
        "        # plot the cost\n",
        "        plt.plot(np.squeeze(costs))\n",
        "        plt.ylabel('cost')\n",
        "        plt.xlabel('iterations (per tens)')\n",
        "        plt.title(\"Learning rate =\" + str(learning_rate))\n",
        "        plt.show()\n",
        "\n",
        "        # Calculate the correct predictions\n",
        "        predict_op = tf.argmax(Z3, 1)\n",
        "        correct_prediction = tf.equal(predict_op, tf.argmax(Y, 1))\n",
        "        \n",
        "        # Calculate accuracy on the test set\n",
        "        accuracy = tf.reduce_mean(tf.cast(correct_prediction, \"float\"))\n",
        "        #print(accuracy)\n",
        "        train_accuracy = accuracy.eval({X: X_train, Y: Y_train})\n",
        "        test_accuracy = accuracy.eval({X: X_test, Y: Y_test})\n",
        "        print(\"Train Accuracy:\", train_accuracy)\n",
        "        print(\"Test Accuracy:\", test_accuracy)\n",
        "                \n",
        "        return train_accuracy, test_accuracy, parameters\n",
        "        \n",
        "    "
      ],
      "execution_count": 19,
      "outputs": []
    },
    {
      "cell_type": "code",
      "metadata": {
        "id": "T8PtrfPfaei9",
        "colab_type": "code",
        "colab": {
          "base_uri": "https://localhost:8080/",
          "height": 596
        },
        "outputId": "040ba869-1985-4369-e80e-47f7e233b452"
      },
      "source": [
        "train_acc, test_acc, parameters = model(X_train, Y_train, X_test, Y_test)"
      ],
      "execution_count": 20,
      "outputs": [
        {
          "output_type": "stream",
          "text": [
            "Cost after epoch 0: 0.205662\n",
            "Cost after epoch 1: 0.067756\n",
            "Cost after epoch 2: 0.050854\n",
            "Cost after epoch 3: 0.041859\n",
            "Cost after epoch 4: 0.034217\n",
            "Cost after epoch 5: 0.028705\n",
            "Cost after epoch 6: 0.025723\n",
            "Cost after epoch 7: 0.022118\n",
            "Cost after epoch 8: 0.019210\n",
            "Cost after epoch 9: 0.017414\n",
            "Cost after epoch 10: 0.014877\n",
            "Cost after epoch 11: 0.012600\n",
            "Cost after epoch 12: 0.011435\n",
            "Cost after epoch 13: 0.009722\n",
            "Cost after epoch 14: 0.009395\n"
          ],
          "name": "stdout"
        },
        {
          "output_type": "display_data",
          "data": {
            "image/png": "[encoded data removed]",
            "text/plain": [
              "<Figure size 432x288 with 1 Axes>"
            ]
          },
          "metadata": {
            "tags": []
          }
        },
        {
          "output_type": "stream",
          "text": [
            "Train Accuracy: 0.99795\n",
            "Test Accuracy: 0.9891\n"
          ],
          "name": "stdout"
        }
      ]
    },
    {
      "cell_type": "code",
      "metadata": {
        "id": "jwV4y2CSaejL",
        "colab_type": "code",
        "colab": {}
      },
      "source": [
        ""
      ],
      "execution_count": null,
      "outputs": []
    }
  ]
}